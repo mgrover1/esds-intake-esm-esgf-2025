{
 "cells": [
  {
   "cell_type": "markdown",
   "id": "e8e14254-c00f-46d4-9724-a30751dc997c",
   "metadata": {},
   "source": [
    "# Introduction to intake-esgf\n",
    "\n",
    "This guide is targetted at users who are new to obtaining [CMIP](https://www.wcrp-climate.org/wgcm-cmip) data from ESGF. While many people work hard to provide the community access in an intuitive fashion, ESGF remains a data source for researchers who have some prior understanding about the data they wish to find and how they are organized. This tutorial is meant to gently expose the uninitiated to key concepts and step you through your first searches using `intake-esgf`."
   ]
  },
  {
   "cell_type": "markdown",
   "id": "91c2742e-c9fa-49d2-ab58-c7c0bf98e223",
   "metadata": {},
   "source": [
    "## Imports\n",
    "Similar to intake-esm, we import, except we do not need to pass the path to the catalog itself."
   ]
  },
  {
   "cell_type": "code",
   "execution_count": 1,
   "id": "9de81744-12ff-4156-a127-270724ab8c0f",
   "metadata": {},
   "outputs": [],
   "source": [
    "from intake_esgf import ESGFCatalog"
   ]
  },
  {
   "cell_type": "markdown",
   "id": "ca489ac4-c0e8-490d-8864-1d1326ee4cbd",
   "metadata": {},
   "source": [
    "## Load the Catalog\n",
    "\n",
    "First, import and instantiate the catalog."
   ]
  },
  {
   "cell_type": "code",
   "execution_count": 2,
   "id": "54659a5e-c55a-472c-b1eb-8105015f1e35",
   "metadata": {},
   "outputs": [
    {
     "data": {
      "text/plain": [
       "Perform a search() to populate the catalog."
      ]
     },
     "execution_count": 2,
     "metadata": {},
     "output_type": "execute_result"
    }
   ],
   "source": [
    "cat = ESGFCatalog()\n",
    "cat"
   ]
  },
  {
   "cell_type": "markdown",
   "id": "1fb143bc-7933-4319-b21e-e8ab52a941a9",
   "metadata": {},
   "source": [
    "Then you can use the catalog to perform a free text search for any word that may be related to the variable for which you are searching."
   ]
  },
  {
   "cell_type": "markdown",
   "id": "0c854c32-75d0-4933-8feb-8f0b31636923",
   "metadata": {},
   "source": [
    "## Which Variable Do We Need?\n",
    "\n",
    "At the highest level, ESGF stores data in *projects* such as `CMIP5` and `CMIP6`. While there are some similarities between projects, the *control vocabulary*, that is the metadata used to identify unique datasets, varies. In this tutorial we will explain some of the CMIP6 vocabulary, which is the default project for `intake-esgf`.\n",
    "\n",
    "Perhaps the most important search criteria to determine is the name of the variable you wish to use. `intake-esgf` has some functionality to assist.\n",
    "\n",
    "In this case, we will search for `air temperature surface`."
   ]
  },
  {
   "cell_type": "code",
   "execution_count": 3,
   "id": "f406e278-ee26-460f-95e9-82fb71b0b25f",
   "metadata": {},
   "outputs": [
    {
     "data": {
      "text/html": [
       "<div>\n",
       "<style scoped>\n",
       "    .dataframe tbody tr th:only-of-type {\n",
       "        vertical-align: middle;\n",
       "    }\n",
       "\n",
       "    .dataframe tbody tr th {\n",
       "        vertical-align: top;\n",
       "    }\n",
       "\n",
       "    .dataframe thead th {\n",
       "        text-align: right;\n",
       "    }\n",
       "</style>\n",
       "<table border=\"1\" class=\"dataframe\">\n",
       "  <thead>\n",
       "    <tr style=\"text-align: right;\">\n",
       "      <th></th>\n",
       "      <th>variable_long_name</th>\n",
       "      <th>cf_standard_name</th>\n",
       "      <th>variable_units</th>\n",
       "    </tr>\n",
       "    <tr>\n",
       "      <th>variable_id</th>\n",
       "      <th></th>\n",
       "      <th></th>\n",
       "      <th></th>\n",
       "    </tr>\n",
       "  </thead>\n",
       "  <tbody>\n",
       "    <tr>\n",
       "      <th>hfls</th>\n",
       "      <td>Surface Upward Latent Heat Flux</td>\n",
       "      <td>surface_upward_latent_heat_flux</td>\n",
       "      <td>W m-2</td>\n",
       "    </tr>\n",
       "    <tr>\n",
       "      <th>hfss</th>\n",
       "      <td>Surface Upward Sensible Heat Flux</td>\n",
       "      <td>surface_upward_sensible_heat_flux</td>\n",
       "      <td>W m-2</td>\n",
       "    </tr>\n",
       "    <tr>\n",
       "      <th>rlds</th>\n",
       "      <td>Surface Downwelling Longwave Radiation</td>\n",
       "      <td>surface_downwelling_longwave_flux_in_air</td>\n",
       "      <td>W m-2</td>\n",
       "    </tr>\n",
       "    <tr>\n",
       "      <th>rsds</th>\n",
       "      <td>Surface Downwelling Shortwave Radiation</td>\n",
       "      <td>surface_downwelling_shortwave_flux_in_air</td>\n",
       "      <td>W m-2</td>\n",
       "    </tr>\n",
       "    <tr>\n",
       "      <th>sfcWind</th>\n",
       "      <td>Near-Surface Wind Speed</td>\n",
       "      <td>wind_speed</td>\n",
       "      <td>m s-1</td>\n",
       "    </tr>\n",
       "    <tr>\n",
       "      <th>ta</th>\n",
       "      <td>Air Temperature</td>\n",
       "      <td>air_temperature</td>\n",
       "      <td>K</td>\n",
       "    </tr>\n",
       "    <tr>\n",
       "      <th>tas</th>\n",
       "      <td>Near-Surface Air Temperature</td>\n",
       "      <td>air_temperature</td>\n",
       "      <td>K</td>\n",
       "    </tr>\n",
       "    <tr>\n",
       "      <th>tasmax</th>\n",
       "      <td>Daily Maximum Near-Surface Air Temperature</td>\n",
       "      <td>air_temperature</td>\n",
       "      <td>K</td>\n",
       "    </tr>\n",
       "    <tr>\n",
       "      <th>tasmin</th>\n",
       "      <td>Daily Minimum Near-Surface Air Temperature</td>\n",
       "      <td>air_temperature</td>\n",
       "      <td>K</td>\n",
       "    </tr>\n",
       "    <tr>\n",
       "      <th>vas</th>\n",
       "      <td>Northward Near-Surface Wind</td>\n",
       "      <td>northward_wind</td>\n",
       "      <td>m s-1</td>\n",
       "    </tr>\n",
       "  </tbody>\n",
       "</table>\n",
       "</div>"
      ],
      "text/plain": [
       "                                     variable_long_name  \\\n",
       "variable_id                                               \n",
       "hfls                    Surface Upward Latent Heat Flux   \n",
       "hfss                  Surface Upward Sensible Heat Flux   \n",
       "rlds             Surface Downwelling Longwave Radiation   \n",
       "rsds            Surface Downwelling Shortwave Radiation   \n",
       "sfcWind                         Near-Surface Wind Speed   \n",
       "ta                                      Air Temperature   \n",
       "tas                        Near-Surface Air Temperature   \n",
       "tasmax       Daily Maximum Near-Surface Air Temperature   \n",
       "tasmin       Daily Minimum Near-Surface Air Temperature   \n",
       "vas                         Northward Near-Surface Wind   \n",
       "\n",
       "                                      cf_standard_name variable_units  \n",
       "variable_id                                                            \n",
       "hfls                   surface_upward_latent_heat_flux          W m-2  \n",
       "hfss                 surface_upward_sensible_heat_flux          W m-2  \n",
       "rlds          surface_downwelling_longwave_flux_in_air          W m-2  \n",
       "rsds         surface_downwelling_shortwave_flux_in_air          W m-2  \n",
       "sfcWind                                     wind_speed          m s-1  \n",
       "ta                                     air_temperature              K  \n",
       "tas                                    air_temperature              K  \n",
       "tasmax                                 air_temperature              K  \n",
       "tasmin                                 air_temperature              K  \n",
       "vas                                     northward_wind          m s-1  "
      ]
     },
     "execution_count": 3,
     "metadata": {},
     "output_type": "execute_result"
    }
   ],
   "source": [
    "cat.variable_info(\"air temperature surface\")"
   ]
  },
  {
   "cell_type": "markdown",
   "id": "c725e9f4-b21a-4ce2-880b-12229d1669e0",
   "metadata": {},
   "source": [
    "This function returns a pandas dataframe which lists the name of several variables along with their units and standard names. From a perusal of this list, it appears that `tas` is the variable we want for this search. The dataframe index also shows us that the name of the control vocabulary is `variable_id`."
   ]
  },
  {
   "cell_type": "markdown",
   "id": "3ba0e350-22f2-4bd4-98d3-35715fdc6cde",
   "metadata": {},
   "source": [
    "## Controlled Vocabulary\n",
    "\n",
    "While we could now perform a search for `variable_id=tas`, this search will take quite some time. `intake-esgf` currently works better if we give it a better idea of what we wish to find. Simply put, we recommend constraining the search.\n",
    "\n",
    "One of the more useful search facets is the `experiment_id`, a unique identifier corresponding to the experiment. As part of the planning phase of the CMIP process, groups of researchers write papers detailing the specific method that a model is to be run to be included in an experiment. This allows modeling centers to follow the protocol if they wish to be part of the experiment. You can [browse](https://wcrp-cmip.github.io/CMIP6_CVs/docs/CMIP6_experiment_id.html) the experiments to see the indentifiers and some basic information.\n",
    "\n",
    "One commonly used experiment is `historical`, where models are run using reconstructions of the historical earth state from 1850 until 2015. We will use this in our example search."
   ]
  },
  {
   "cell_type": "code",
   "execution_count": 4,
   "id": "a608e786-41ac-42d1-814f-d77e53aab1a1",
   "metadata": {},
   "outputs": [
    {
     "data": {
      "application/vnd.jupyter.widget-view+json": {
       "model_id": "18f3b9dfb20e4b5ea384c508d604ecfc",
       "version_major": 2,
       "version_minor": 0
      },
      "text/plain": [
       "   Searching indices:   0%|          |0/2 [       ?index/s]"
      ]
     },
     "metadata": {},
     "output_type": "display_data"
    },
    {
     "data": {
      "text/plain": [
       "Summary information for 1687 results:\n",
       "mip_era                                                     [CMIP6]\n",
       "activity_drs                                                 [CMIP]\n",
       "institution_id    [IPSL, NASA-GISS, NCAR, MPI-M, MRI, CNRM-CERFA...\n",
       "source_id         [IPSL-CM6A-LR, GISS-E2-1-H, CESM2, GISS-E2-1-G...\n",
       "experiment_id                                          [historical]\n",
       "member_id         [r9i1p1f1, r7i1p1f1, r4i1p1f1, r27i1p1f1, r5i1...\n",
       "table_id          [ImonGre, ImonAnt, Amon, day, 3hr, 6hrPlevPt, ...\n",
       "variable_id                                                   [tas]\n",
       "grid_label                             [grg, gra, gr, gn, gr1, gr2]\n",
       "dtype: object"
      ]
     },
     "execution_count": 4,
     "metadata": {},
     "output_type": "execute_result"
    }
   ],
   "source": [
    "cat.search(variable_id=\"tas\",experiment_id=\"historical\")"
   ]
  },
  {
   "cell_type": "markdown",
   "id": "ecff20fb-cf6e-414c-be31-e2fbf4e38e9c",
   "metadata": {},
   "source": [
    "### Understanding the Returned Search\n",
    "This will populate an underlying pandas dataframe with the search results. The columns of that dataframe and unique values are presented . This exposes more of the control vocabulary for CMIP6. We have already explored `variable_id` and `experiment_id`. Now we explain more of the control vocabulary emphasizing what we find to be the more useful facets.\n",
    "- `source_id` - The identifier of the model. We use the term *source* instead of *model* in an attempt to make the control vocabulary more general and in the future unify vocabularies among projects. Each model or model version will have a unique string identifying which model and/or configuration was run, which can be [browsed](https://wcrp-cmip.github.io/CMIP6_CVs/docs/CMIP6_source_id.html).\n",
    "- `member_id` - The label for the variant of the model run (also known as `variant_label`). The precise meaning of these labels is specific to each model group. For CMIP6 these take the form `r...i...p...f...` where integers after each character reflect a separate run. Usually (but not with all models) the main result will be `r1i1p1f1`.\n",
    "  - `r` stands for the *realization*. Models can be run with small pertubations of the initial conditions to produce an ensemble. Model runs with the same `r` number started with the same initial conditions.\n",
    "  - `i` stands for the *initialization*. Models use different methods to spin up their states into quasi-equilibrium. This integer reflects the method that was used by the model.\n",
    "  - `p` stands for the *physics*. Modern models have many configuration options and while most submit results in a single configuration, this designation provides a method to distinguish among them if desired.\n",
    "  - `f` stands for the *forcing*. When multiple methods for forcing an experiment are possible, this label distinguishes among them.\n",
    "- `table_id` - Variables are organized into what CMIP refers to as tables. This tends to be a juxtaposition of a problem realm (`A` for atmosphere, `O` for ocean) along with time frequency (`mon` for month, `day` for day). Note that a variable can exist in several tables. In our search we see that there is `day` temperature data as well as monthly `Amon`."
   ]
  },
  {
   "cell_type": "markdown",
   "id": "5a254738-a557-4823-9e19-2522505c1776",
   "metadata": {},
   "source": [
    "## Downloading Data\n",
    "\n",
    "We will refine our search to select a single model `CanESM5`, variant `r1i1p1f1`, and table `Amon`."
   ]
  },
  {
   "cell_type": "code",
   "execution_count": 5,
   "id": "a90a766f-37af-47fd-a055-f2daca958eea",
   "metadata": {},
   "outputs": [
    {
     "data": {
      "application/vnd.jupyter.widget-view+json": {
       "model_id": "14f7cfbd2e424fb7853d19ab3c306a3c",
       "version_major": 2,
       "version_minor": 0
      },
      "text/plain": [
       "   Searching indices:   0%|          |0/2 [       ?index/s]"
      ]
     },
     "metadata": {},
     "output_type": "display_data"
    },
    {
     "data": {
      "text/plain": [
       "Summary information for 1 results:\n",
       "mip_era                [CMIP6]\n",
       "activity_drs            [CMIP]\n",
       "institution_id         [CCCma]\n",
       "source_id            [CanESM5]\n",
       "experiment_id     [historical]\n",
       "member_id           [r1i1p1f1]\n",
       "table_id                [Amon]\n",
       "variable_id              [tas]\n",
       "grid_label                [gn]\n",
       "dtype: object"
      ]
     },
     "execution_count": 5,
     "metadata": {},
     "output_type": "execute_result"
    }
   ],
   "source": [
    "cat.search(\n",
    "    variable_id=\"tas\",\n",
    "    experiment_id=\"historical\",\n",
    "    source_id=\"CanESM5\",\n",
    "    member_id=\"r1i1p1f1\",\n",
    "    table_id=\"Amon\"\n",
    ")"
   ]
  },
  {
   "cell_type": "markdown",
   "id": "5085a912-ca86-47b2-84c0-c26801e10d44",
   "metadata": {},
   "source": [
    "Once your search has been sufficiently narrowed, you may download into a dictionary of [xarray](https://docs.xarray.dev/en/stable/) datasets, similar to intake-esm."
   ]
  },
  {
   "cell_type": "code",
   "execution_count": 7,
   "id": "4c028a83-7c5d-4030-b748-7b8391f83af9",
   "metadata": {},
   "outputs": [
    {
     "data": {
      "application/vnd.jupyter.widget-view+json": {
       "model_id": "ccd04e2b3cd044aaa76c9caadadcdeb3",
       "version_major": 2,
       "version_minor": 0
      },
      "text/plain": [
       "Get file information:   0%|          |0/2 [       ?index/s]"
      ]
     },
     "metadata": {},
     "output_type": "display_data"
    },
    {
     "data": {
      "application/vnd.jupyter.widget-view+json": {
       "model_id": "6bbc3d14badf4e6ebbc4d6a0eba2033f",
       "version_major": 2,
       "version_minor": 0
      },
      "text/plain": [
       "Adding cell measures:   0%|          |0/1 [     ?dataset/s]"
      ]
     },
     "metadata": {},
     "output_type": "display_data"
    }
   ],
   "source": [
    "dset_dict = cat.to_dataset_dict()"
   ]
  },
  {
   "cell_type": "markdown",
   "id": "5623d44f-0ea8-4615-a0d5-ba4d4cb5e55a",
   "metadata": {},
   "source": [
    "Note that you do not need to explicitly search for cell measures such as `areacella`. These will be included [automatically](measures). The files are downloaded locally to a cache directory which mirrors the directory structure of the remote storate. So while the above code is how you download data, it is also how you load it into memory for your analysis scripts. There is no need to handle files in your working directory or write complicated code to load them into memory."
   ]
  },
  {
   "cell_type": "markdown",
   "id": "4029caa2-13c4-4152-acb2-16cde43b2d83",
   "metadata": {},
   "source": [
    "## Plotting\n",
    "Note that you do not need to explicitly search for cell measures such as `areacella`. These will be included [automatically](measures). The files are downloaded locally to a cache directory which mirrors the directory structure of the remote storate. So while the above code is how you download data, it is also how you load it into memory for your analysis scripts. There is no need to handle files in your working directory or write complicated code to load them into memory."
   ]
  },
  {
   "cell_type": "code",
   "execution_count": 8,
   "id": "3da3998a-d1d0-42a1-b20a-c4c5d91a0796",
   "metadata": {},
   "outputs": [
    {
     "data": {
      "text/plain": [
       "<matplotlib.collections.QuadMesh at 0x1688bfc90>"
      ]
     },
     "execution_count": 8,
     "metadata": {},
     "output_type": "execute_result"
    },
    {
     "data": {
      "image/png": "[encoded data removed]",
      "text/plain": [
       "<Figure size 600x400 with 2 Axes>"
      ]
     },
     "metadata": {},
     "output_type": "display_data"
    }
   ],
   "source": [
    "import matplotlib.pyplot as plt\n",
    "fig, ax = plt.subplots(figsize=(6, 4), tight_layout=True)\n",
    "ds = dsd[\"tas\"][\"tas\"].mean(dim=\"time\") - 273.15  # to [C]\n",
    "ds.plot(ax=ax, cmap=\"bwr\", vmin=-40, vmax=40, cbar_kwargs={\"label\": \"tas [C]\"})"
   ]
  },
  {
   "cell_type": "markdown",
   "id": "11c0dcf3-b9c0-44a8-a225-f80b523120fc",
   "metadata": {},
   "source": [
    "## Where is my data?\n",
    "You might be curious where the actual datasets are saved to; you can extract just the paths to the data using the following:"
   ]
  },
  {
   "cell_type": "code",
   "execution_count": 11,
   "id": "b5bfda86-fef5-4ca2-bbfb-bb420a30b364",
   "metadata": {},
   "outputs": [
    {
     "data": {
      "application/vnd.jupyter.widget-view+json": {
       "model_id": "ff9ba03c604d49c3832883c09a84c880",
       "version_major": 2,
       "version_minor": 0
      },
      "text/plain": [
       "Get file information:   0%|          |0/2 [       ?index/s]"
      ]
     },
     "metadata": {},
     "output_type": "display_data"
    },
    {
     "name": "stdout",
     "output_type": "stream",
     "text": [
      "{'tas': [PosixPath('/Users/mgrover/.esgf/CMIP6/CMIP/CCCma/CanESM5/historical/r1i1p1f1/Amon/tas/gn/v20190429/tas_Amon_CanESM5_historical_r1i1p1f1_gn_185001-201412.nc')]}\n"
     ]
    }
   ],
   "source": [
    "paths = cat.to_path_dict()\n",
    "print(paths)"
   ]
  },
  {
   "cell_type": "markdown",
   "id": "34f1e758-9b78-4bbb-8583-27386d2529f5",
   "metadata": {},
   "source": [
    "### Changing the configuration\n",
    "You can reconfigure or change where intake-esgf looks for data using the configuration settings."
   ]
  },
  {
   "cell_type": "code",
   "execution_count": 13,
   "id": "f974fbea-8c26-4844-8307-e76a5a9a6d21",
   "metadata": {},
   "outputs": [
    {
     "name": "stdout",
     "output_type": "stream",
     "text": [
      "additional_df_cols: []\n",
      "break_on_error: true\n",
      "download_db: ~/.config/intake-esgf/download.db\n",
      "esg_dataroot:\n",
      "- /p/css03/esgf_publish\n",
      "- /eagle/projects/ESGF2/esg_dataroot\n",
      "- /global/cfs/projectdirs/m3522/cmip6/\n",
      "globus_indices:\n",
      "  anl-dev: true\n",
      "  ornl-dev: true\n",
      "local_cache:\n",
      "- ~/.esgf/\n",
      "logfile: ~/.config/intake-esgf/esgf.log\n",
      "num_threads: 6\n",
      "solr_indices:\n",
      "  esg-dn1.nsc.liu.se: false\n",
      "  esgf-data.dkrz.de: false\n",
      "  esgf-node.ipsl.upmc.fr: false\n",
      "  esgf-node.llnl.gov: false\n",
      "  esgf-node.ornl.gov: false\n",
      "  esgf.ceda.ac.uk: false\n",
      "  esgf.nci.org.au: false\n",
      "\n"
     ]
    }
   ],
   "source": [
    "print(intake_esgf.conf)"
   ]
  },
  {
   "cell_type": "markdown",
   "id": "f715f94b-0652-465b-abb5-a200c92ad939",
   "metadata": {},
   "source": [
    "for example, we could change the local cache to be the temporary directory:"
   ]
  },
  {
   "cell_type": "code",
   "execution_count": 14,
   "id": "40f9a64f-c484-402c-8bba-9cb7489e5e72",
   "metadata": {},
   "outputs": [
    {
     "name": "stdout",
     "output_type": "stream",
     "text": [
      "['~/tmp']\n"
     ]
    }
   ],
   "source": [
    "intake_esgf.conf.set(local_cache=\"~/tmp\")\n",
    "print(intake_esgf.conf['local_cache'])"
   ]
  },
  {
   "cell_type": "code",
   "execution_count": null,
   "id": "a21c525a-c42f-44f3-99de-e28d122ea8a6",
   "metadata": {},
   "outputs": [],
   "source": []
  }
 ],
 "metadata": {
  "kernelspec": {
   "display_name": "Python 3 (ipykernel)",
   "language": "python",
   "name": "python3"
  },
  "language_info": {
   "codemirror_mode": {
    "name": "ipython",
    "version": 3
   },
   "file_extension": ".py",
   "mimetype": "text/x-python",
   "name": "python",
   "nbconvert_exporter": "python",
   "pygments_lexer": "ipython3",
   "version": "3.11.12"
  }
 },
 "nbformat": 4,
 "nbformat_minor": 5
}
